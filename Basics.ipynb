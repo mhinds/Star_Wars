{
 "cells": [
  {
   "cell_type": "markdown",
   "metadata": {},
   "source": [
    "# Star Wars Data Exploration\n",
    "by Michael Hinds\n",
    "\n",
    "This is an exploration in cleaning up a dataset and analyzing it graphically using Python and Pandas. Interesting questions to answer. \n",
    "1. Which is the most popular Star Wars movie? \n",
    "2. Which Star Wars character is most controversial? \n",
    "3. How does that vary across demographics? "
   ]
  },
  {
   "cell_type": "markdown",
   "metadata": {},
   "source": [
    "---\n",
    "#### The first step is read the data into a Pandas dataframe. Then, examine the various sections of the survey data."
   ]
  },
  {
   "cell_type": "code",
   "execution_count": 731,
   "metadata": {
    "collapsed": false
   },
   "outputs": [
    {
     "data": {
      "text/html": [
       "<div>\n",
       "<table border=\"1\" class=\"dataframe\">\n",
       "  <thead>\n",
       "    <tr style=\"text-align: right;\">\n",
       "      <th></th>\n",
       "      <th>Have you seen any of the 6 films in the Star Wars franchise?</th>\n",
       "    </tr>\n",
       "  </thead>\n",
       "  <tbody>\n",
       "    <tr>\n",
       "      <th>Yes</th>\n",
       "      <td>936</td>\n",
       "    </tr>\n",
       "    <tr>\n",
       "      <th>No</th>\n",
       "      <td>250</td>\n",
       "    </tr>\n",
       "  </tbody>\n",
       "</table>\n",
       "</div>"
      ],
      "text/plain": [
       "     Have you seen any of the 6 films in the Star Wars franchise?\n",
       "Yes                                                936           \n",
       "No                                                 250           "
      ]
     },
     "execution_count": 731,
     "metadata": {},
     "output_type": "execute_result"
    }
   ],
   "source": [
    "import pandas as pd\n",
    "import matplotlib.pyplot as plt\n",
    "import numpy as np\n",
    "star_wars = pd.read_csv(\"star_wars.csv\", encoding=\"ISO-8859-1\")\n",
    "#first row is metadata, so remove\n",
    "star_wars = star_wars[star_wars[\"RespondentID\"].notnull()]\n",
    "\n",
    "#Do you even Star Wars bro?\n",
    "star_wars.iloc[:,1:2].apply(pd.Series.value_counts).fillna('')"
   ]
  },
  {
   "cell_type": "code",
   "execution_count": 732,
   "metadata": {
    "collapsed": false
   },
   "outputs": [
    {
     "data": {
      "text/html": [
       "<div>\n",
       "<table border=\"1\" class=\"dataframe\">\n",
       "  <thead>\n",
       "    <tr style=\"text-align: right;\">\n",
       "      <th></th>\n",
       "      <th>Which of the following Star Wars films have you seen? Please select all that apply.</th>\n",
       "      <th>Unnamed: 4</th>\n",
       "      <th>Unnamed: 5</th>\n",
       "      <th>Unnamed: 6</th>\n",
       "      <th>Unnamed: 7</th>\n",
       "      <th>Unnamed: 8</th>\n",
       "    </tr>\n",
       "  </thead>\n",
       "  <tbody>\n",
       "    <tr>\n",
       "      <th>Star Wars: Episode I  The Phantom Menace</th>\n",
       "      <td>673</td>\n",
       "      <td></td>\n",
       "      <td></td>\n",
       "      <td></td>\n",
       "      <td></td>\n",
       "      <td></td>\n",
       "    </tr>\n",
       "    <tr>\n",
       "      <th>Star Wars: Episode II  Attack of the Clones</th>\n",
       "      <td></td>\n",
       "      <td>571</td>\n",
       "      <td></td>\n",
       "      <td></td>\n",
       "      <td></td>\n",
       "      <td></td>\n",
       "    </tr>\n",
       "    <tr>\n",
       "      <th>Star Wars: Episode III  Revenge of the Sith</th>\n",
       "      <td></td>\n",
       "      <td></td>\n",
       "      <td>550</td>\n",
       "      <td></td>\n",
       "      <td></td>\n",
       "      <td></td>\n",
       "    </tr>\n",
       "    <tr>\n",
       "      <th>Star Wars: Episode IV  A New Hope</th>\n",
       "      <td></td>\n",
       "      <td></td>\n",
       "      <td></td>\n",
       "      <td>607</td>\n",
       "      <td></td>\n",
       "      <td></td>\n",
       "    </tr>\n",
       "    <tr>\n",
       "      <th>Star Wars: Episode V The Empire Strikes Back</th>\n",
       "      <td></td>\n",
       "      <td></td>\n",
       "      <td></td>\n",
       "      <td></td>\n",
       "      <td>758</td>\n",
       "      <td></td>\n",
       "    </tr>\n",
       "    <tr>\n",
       "      <th>Star Wars: Episode VI Return of the Jedi</th>\n",
       "      <td></td>\n",
       "      <td></td>\n",
       "      <td></td>\n",
       "      <td></td>\n",
       "      <td></td>\n",
       "      <td>738</td>\n",
       "    </tr>\n",
       "  </tbody>\n",
       "</table>\n",
       "</div>"
      ],
      "text/plain": [
       "                                             Which of the following Star Wars films have you seen? Please select all that apply.  \\\n",
       "Star Wars: Episode I  The Phantom Menace                                                    673                                    \n",
       "Star Wars: Episode II  Attack of the Clones                                                                                        \n",
       "Star Wars: Episode III  Revenge of the Sith                                                                                        \n",
       "Star Wars: Episode IV  A New Hope                                                                                                  \n",
       "Star Wars: Episode V The Empire Strikes Back                                                                                       \n",
       "Star Wars: Episode VI Return of the Jedi                                                                                           \n",
       "\n",
       "                                             Unnamed: 4 Unnamed: 5 Unnamed: 6  \\\n",
       "Star Wars: Episode I  The Phantom Menace                                        \n",
       "Star Wars: Episode II  Attack of the Clones         571                         \n",
       "Star Wars: Episode III  Revenge of the Sith                    550              \n",
       "Star Wars: Episode IV  A New Hope                                         607   \n",
       "Star Wars: Episode V The Empire Strikes Back                                    \n",
       "Star Wars: Episode VI Return of the Jedi                                        \n",
       "\n",
       "                                             Unnamed: 7 Unnamed: 8  \n",
       "Star Wars: Episode I  The Phantom Menace                            \n",
       "Star Wars: Episode II  Attack of the Clones                         \n",
       "Star Wars: Episode III  Revenge of the Sith                         \n",
       "Star Wars: Episode IV  A New Hope                                   \n",
       "Star Wars: Episode V The Empire Strikes Back        758             \n",
       "Star Wars: Episode VI Return of the Jedi                       738  "
      ]
     },
     "execution_count": 732,
     "metadata": {},
     "output_type": "execute_result"
    }
   ],
   "source": [
    "#Movies Seen\n",
    "star_wars.iloc[:,3:9].apply(pd.Series.value_counts).fillna('')"
   ]
  },
  {
   "cell_type": "code",
   "execution_count": 733,
   "metadata": {
    "collapsed": false
   },
   "outputs": [
    {
     "data": {
      "text/html": [
       "<div>\n",
       "<table border=\"1\" class=\"dataframe\">\n",
       "  <thead>\n",
       "    <tr style=\"text-align: right;\">\n",
       "      <th></th>\n",
       "      <th>Please rank the Star Wars films in order of preference with 1 being your favorite film in the franchise and 6 being your least favorite film.</th>\n",
       "      <th>Unnamed: 10</th>\n",
       "      <th>Unnamed: 11</th>\n",
       "      <th>Unnamed: 12</th>\n",
       "      <th>Unnamed: 13</th>\n",
       "      <th>Unnamed: 14</th>\n",
       "    </tr>\n",
       "  </thead>\n",
       "  <tbody>\n",
       "    <tr>\n",
       "      <th>1</th>\n",
       "      <td>129</td>\n",
       "      <td>32</td>\n",
       "      <td>36</td>\n",
       "      <td>204</td>\n",
       "      <td>289</td>\n",
       "      <td>146</td>\n",
       "    </tr>\n",
       "    <tr>\n",
       "      <th>2</th>\n",
       "      <td>71</td>\n",
       "      <td>116</td>\n",
       "      <td>47</td>\n",
       "      <td>135</td>\n",
       "      <td>235</td>\n",
       "      <td>232</td>\n",
       "    </tr>\n",
       "    <tr>\n",
       "      <th>3</th>\n",
       "      <td>130</td>\n",
       "      <td>103</td>\n",
       "      <td>150</td>\n",
       "      <td>127</td>\n",
       "      <td>106</td>\n",
       "      <td>220</td>\n",
       "    </tr>\n",
       "    <tr>\n",
       "      <th>4</th>\n",
       "      <td>237</td>\n",
       "      <td>183</td>\n",
       "      <td>182</td>\n",
       "      <td>130</td>\n",
       "      <td>47</td>\n",
       "      <td>57</td>\n",
       "    </tr>\n",
       "    <tr>\n",
       "      <th>5</th>\n",
       "      <td>100</td>\n",
       "      <td>300</td>\n",
       "      <td>203</td>\n",
       "      <td>79</td>\n",
       "      <td>118</td>\n",
       "      <td>36</td>\n",
       "    </tr>\n",
       "    <tr>\n",
       "      <th>6</th>\n",
       "      <td>168</td>\n",
       "      <td>102</td>\n",
       "      <td>217</td>\n",
       "      <td>161</td>\n",
       "      <td>41</td>\n",
       "      <td>145</td>\n",
       "    </tr>\n",
       "  </tbody>\n",
       "</table>\n",
       "</div>"
      ],
      "text/plain": [
       "   Please rank the Star Wars films in order of preference with 1 being your favorite film in the franchise and 6 being your least favorite film.  \\\n",
       "1                                                129                                                                                               \n",
       "2                                                 71                                                                                               \n",
       "3                                                130                                                                                               \n",
       "4                                                237                                                                                               \n",
       "5                                                100                                                                                               \n",
       "6                                                168                                                                                               \n",
       "\n",
       "   Unnamed: 10  Unnamed: 11  Unnamed: 12  Unnamed: 13  Unnamed: 14  \n",
       "1           32           36          204          289          146  \n",
       "2          116           47          135          235          232  \n",
       "3          103          150          127          106          220  \n",
       "4          183          182          130           47           57  \n",
       "5          300          203           79          118           36  \n",
       "6          102          217          161           41          145  "
      ]
     },
     "execution_count": 733,
     "metadata": {},
     "output_type": "execute_result"
    }
   ],
   "source": [
    "#Film Rankings\n",
    "star_wars.iloc[:,9:15].apply(pd.Series.value_counts).fillna('')"
   ]
  },
  {
   "cell_type": "code",
   "execution_count": 734,
   "metadata": {
    "collapsed": false
   },
   "outputs": [
    {
     "data": {
      "text/html": [
       "<div>\n",
       "<table border=\"1\" class=\"dataframe\">\n",
       "  <thead>\n",
       "    <tr style=\"text-align: right;\">\n",
       "      <th></th>\n",
       "      <th>Please state whether you view the following characters favorably, unfavorably, or are unfamiliar with him/her.</th>\n",
       "      <th>Unnamed: 16</th>\n",
       "      <th>Unnamed: 17</th>\n",
       "      <th>Unnamed: 18</th>\n",
       "      <th>Unnamed: 19</th>\n",
       "      <th>Unnamed: 20</th>\n",
       "      <th>Unnamed: 21</th>\n",
       "      <th>Unnamed: 22</th>\n",
       "      <th>Unnamed: 23</th>\n",
       "      <th>Unnamed: 24</th>\n",
       "      <th>Unnamed: 25</th>\n",
       "      <th>Unnamed: 26</th>\n",
       "      <th>Unnamed: 27</th>\n",
       "      <th>Unnamed: 28</th>\n",
       "    </tr>\n",
       "  </thead>\n",
       "  <tbody>\n",
       "    <tr>\n",
       "      <th>Neither favorably nor unfavorably (neutral)</th>\n",
       "      <td>44</td>\n",
       "      <td>38</td>\n",
       "      <td>48</td>\n",
       "      <td>135</td>\n",
       "      <td>43</td>\n",
       "      <td>213</td>\n",
       "      <td>84</td>\n",
       "      <td>236</td>\n",
       "      <td>248</td>\n",
       "      <td>79</td>\n",
       "      <td>57</td>\n",
       "      <td>164</td>\n",
       "      <td>207</td>\n",
       "      <td>51</td>\n",
       "    </tr>\n",
       "    <tr>\n",
       "      <th>Somewhat favorably</th>\n",
       "      <td>151</td>\n",
       "      <td>219</td>\n",
       "      <td>210</td>\n",
       "      <td>269</td>\n",
       "      <td>159</td>\n",
       "      <td>143</td>\n",
       "      <td>171</td>\n",
       "      <td>223</td>\n",
       "      <td>153</td>\n",
       "      <td>229</td>\n",
       "      <td>185</td>\n",
       "      <td>130</td>\n",
       "      <td>183</td>\n",
       "      <td>144</td>\n",
       "    </tr>\n",
       "    <tr>\n",
       "      <th>Somewhat unfavorably</th>\n",
       "      <td>8</td>\n",
       "      <td>13</td>\n",
       "      <td>12</td>\n",
       "      <td>83</td>\n",
       "      <td>8</td>\n",
       "      <td>68</td>\n",
       "      <td>102</td>\n",
       "      <td>63</td>\n",
       "      <td>96</td>\n",
       "      <td>23</td>\n",
       "      <td>10</td>\n",
       "      <td>102</td>\n",
       "      <td>58</td>\n",
       "      <td>8</td>\n",
       "    </tr>\n",
       "    <tr>\n",
       "      <th>Unfamiliar (N/A)</th>\n",
       "      <td>15</td>\n",
       "      <td>6</td>\n",
       "      <td>8</td>\n",
       "      <td>52</td>\n",
       "      <td>17</td>\n",
       "      <td>156</td>\n",
       "      <td>10</td>\n",
       "      <td>148</td>\n",
       "      <td>132</td>\n",
       "      <td>15</td>\n",
       "      <td>10</td>\n",
       "      <td>109</td>\n",
       "      <td>164</td>\n",
       "      <td>10</td>\n",
       "    </tr>\n",
       "    <tr>\n",
       "      <th>Very favorably</th>\n",
       "      <td>610</td>\n",
       "      <td>552</td>\n",
       "      <td>547</td>\n",
       "      <td>245</td>\n",
       "      <td>591</td>\n",
       "      <td>110</td>\n",
       "      <td>310</td>\n",
       "      <td>142</td>\n",
       "      <td>138</td>\n",
       "      <td>474</td>\n",
       "      <td>562</td>\n",
       "      <td>112</td>\n",
       "      <td>168</td>\n",
       "      <td>605</td>\n",
       "    </tr>\n",
       "    <tr>\n",
       "      <th>Very unfavorably</th>\n",
       "      <td>1</td>\n",
       "      <td>3</td>\n",
       "      <td>6</td>\n",
       "      <td>39</td>\n",
       "      <td>7</td>\n",
       "      <td>124</td>\n",
       "      <td>149</td>\n",
       "      <td>8</td>\n",
       "      <td>45</td>\n",
       "      <td>7</td>\n",
       "      <td>6</td>\n",
       "      <td>204</td>\n",
       "      <td>34</td>\n",
       "      <td>8</td>\n",
       "    </tr>\n",
       "  </tbody>\n",
       "</table>\n",
       "</div>"
      ],
      "text/plain": [
       "                                             Please state whether you view the following characters favorably, unfavorably, or are unfamiliar with him/her.  \\\n",
       "Neither favorably nor unfavorably (neutral)                                                 44                                                                \n",
       "Somewhat favorably                                                                         151                                                                \n",
       "Somewhat unfavorably                                                                         8                                                                \n",
       "Unfamiliar (N/A)                                                                            15                                                                \n",
       "Very favorably                                                                             610                                                                \n",
       "Very unfavorably                                                                             1                                                                \n",
       "\n",
       "                                             Unnamed: 16  Unnamed: 17  \\\n",
       "Neither favorably nor unfavorably (neutral)           38           48   \n",
       "Somewhat favorably                                   219          210   \n",
       "Somewhat unfavorably                                  13           12   \n",
       "Unfamiliar (N/A)                                       6            8   \n",
       "Very favorably                                       552          547   \n",
       "Very unfavorably                                       3            6   \n",
       "\n",
       "                                             Unnamed: 18  Unnamed: 19  \\\n",
       "Neither favorably nor unfavorably (neutral)          135           43   \n",
       "Somewhat favorably                                   269          159   \n",
       "Somewhat unfavorably                                  83            8   \n",
       "Unfamiliar (N/A)                                      52           17   \n",
       "Very favorably                                       245          591   \n",
       "Very unfavorably                                      39            7   \n",
       "\n",
       "                                             Unnamed: 20  Unnamed: 21  \\\n",
       "Neither favorably nor unfavorably (neutral)          213           84   \n",
       "Somewhat favorably                                   143          171   \n",
       "Somewhat unfavorably                                  68          102   \n",
       "Unfamiliar (N/A)                                     156           10   \n",
       "Very favorably                                       110          310   \n",
       "Very unfavorably                                     124          149   \n",
       "\n",
       "                                             Unnamed: 22  Unnamed: 23  \\\n",
       "Neither favorably nor unfavorably (neutral)          236          248   \n",
       "Somewhat favorably                                   223          153   \n",
       "Somewhat unfavorably                                  63           96   \n",
       "Unfamiliar (N/A)                                     148          132   \n",
       "Very favorably                                       142          138   \n",
       "Very unfavorably                                       8           45   \n",
       "\n",
       "                                             Unnamed: 24  Unnamed: 25  \\\n",
       "Neither favorably nor unfavorably (neutral)           79           57   \n",
       "Somewhat favorably                                   229          185   \n",
       "Somewhat unfavorably                                  23           10   \n",
       "Unfamiliar (N/A)                                      15           10   \n",
       "Very favorably                                       474          562   \n",
       "Very unfavorably                                       7            6   \n",
       "\n",
       "                                             Unnamed: 26  Unnamed: 27  \\\n",
       "Neither favorably nor unfavorably (neutral)          164          207   \n",
       "Somewhat favorably                                   130          183   \n",
       "Somewhat unfavorably                                 102           58   \n",
       "Unfamiliar (N/A)                                     109          164   \n",
       "Very favorably                                       112          168   \n",
       "Very unfavorably                                     204           34   \n",
       "\n",
       "                                             Unnamed: 28  \n",
       "Neither favorably nor unfavorably (neutral)           51  \n",
       "Somewhat favorably                                   144  \n",
       "Somewhat unfavorably                                   8  \n",
       "Unfamiliar (N/A)                                      10  \n",
       "Very favorably                                       605  \n",
       "Very unfavorably                                       8  "
      ]
     },
     "execution_count": 734,
     "metadata": {},
     "output_type": "execute_result"
    }
   ],
   "source": [
    "#Characters\n",
    "star_wars.iloc[:,15:29].apply(pd.Series.value_counts).fillna('')"
   ]
  },
  {
   "cell_type": "code",
   "execution_count": 735,
   "metadata": {
    "collapsed": false,
    "scrolled": true
   },
   "outputs": [
    {
     "data": {
      "text/html": [
       "<div>\n",
       "<table border=\"1\" class=\"dataframe\">\n",
       "  <thead>\n",
       "    <tr style=\"text-align: right;\">\n",
       "      <th></th>\n",
       "      <th>Which character shot first?</th>\n",
       "    </tr>\n",
       "  </thead>\n",
       "  <tbody>\n",
       "    <tr>\n",
       "      <th>Han</th>\n",
       "      <td>325</td>\n",
       "    </tr>\n",
       "    <tr>\n",
       "      <th>I don't understand this question</th>\n",
       "      <td>306</td>\n",
       "    </tr>\n",
       "    <tr>\n",
       "      <th>Greedo</th>\n",
       "      <td>197</td>\n",
       "    </tr>\n",
       "  </tbody>\n",
       "</table>\n",
       "</div>"
      ],
      "text/plain": [
       "                                  Which character shot first?\n",
       "Han                                                       325\n",
       "I don't understand this question                          306\n",
       "Greedo                                                    197"
      ]
     },
     "execution_count": 735,
     "metadata": {},
     "output_type": "execute_result"
    }
   ],
   "source": [
    "#Extra Nerd Cred\n",
    "star_wars.iloc[:,29:30].apply(pd.Series.value_counts).fillna('')"
   ]
  },
  {
   "cell_type": "code",
   "execution_count": 736,
   "metadata": {
    "collapsed": false
   },
   "outputs": [
    {
     "data": {
      "text/html": [
       "<div>\n",
       "<table border=\"1\" class=\"dataframe\">\n",
       "  <thead>\n",
       "    <tr style=\"text-align: right;\">\n",
       "      <th></th>\n",
       "      <th>Are you familiar with the Expanded Universe?</th>\n",
       "      <th>Do you consider yourself to be a fan of the Expanded Universe?ÂÃ¦</th>\n",
       "      <th>Do you consider yourself to be a fan of the Star Trek franchise?</th>\n",
       "    </tr>\n",
       "  </thead>\n",
       "  <tbody>\n",
       "    <tr>\n",
       "      <th>No</th>\n",
       "      <td>615</td>\n",
       "      <td>114</td>\n",
       "      <td>641</td>\n",
       "    </tr>\n",
       "    <tr>\n",
       "      <th>Yes</th>\n",
       "      <td>213</td>\n",
       "      <td>99</td>\n",
       "      <td>427</td>\n",
       "    </tr>\n",
       "  </tbody>\n",
       "</table>\n",
       "</div>"
      ],
      "text/plain": [
       "     Are you familiar with the Expanded Universe?  \\\n",
       "No                                            615   \n",
       "Yes                                           213   \n",
       "\n",
       "     Do you consider yourself to be a fan of the Expanded Universe?ÂÃ¦  \\\n",
       "No                                                 114                    \n",
       "Yes                                                 99                    \n",
       "\n",
       "     Do you consider yourself to be a fan of the Star Trek franchise?  \n",
       "No                                                 641                 \n",
       "Yes                                                427                 "
      ]
     },
     "execution_count": 736,
     "metadata": {},
     "output_type": "execute_result"
    }
   ],
   "source": [
    "star_wars.iloc[:,30:33].apply(pd.Series.value_counts).fillna('')"
   ]
  },
  {
   "cell_type": "code",
   "execution_count": 737,
   "metadata": {
    "collapsed": false
   },
   "outputs": [
    {
     "data": {
      "text/html": [
       "<div>\n",
       "<table border=\"1\" class=\"dataframe\">\n",
       "  <thead>\n",
       "    <tr style=\"text-align: right;\">\n",
       "      <th></th>\n",
       "      <th>Gender</th>\n",
       "      <th>Age</th>\n",
       "      <th>Household Income</th>\n",
       "      <th>Education</th>\n",
       "      <th>Location (Census Region)</th>\n",
       "    </tr>\n",
       "  </thead>\n",
       "  <tbody>\n",
       "    <tr>\n",
       "      <th>$0 - $24,999</th>\n",
       "      <td></td>\n",
       "      <td></td>\n",
       "      <td>138</td>\n",
       "      <td></td>\n",
       "      <td></td>\n",
       "    </tr>\n",
       "    <tr>\n",
       "      <th>$100,000 - $149,999</th>\n",
       "      <td></td>\n",
       "      <td></td>\n",
       "      <td>141</td>\n",
       "      <td></td>\n",
       "      <td></td>\n",
       "    </tr>\n",
       "    <tr>\n",
       "      <th>$150,000+</th>\n",
       "      <td></td>\n",
       "      <td></td>\n",
       "      <td>95</td>\n",
       "      <td></td>\n",
       "      <td></td>\n",
       "    </tr>\n",
       "    <tr>\n",
       "      <th>$25,000 - $49,999</th>\n",
       "      <td></td>\n",
       "      <td></td>\n",
       "      <td>186</td>\n",
       "      <td></td>\n",
       "      <td></td>\n",
       "    </tr>\n",
       "    <tr>\n",
       "      <th>$50,000 - $99,999</th>\n",
       "      <td></td>\n",
       "      <td></td>\n",
       "      <td>298</td>\n",
       "      <td></td>\n",
       "      <td></td>\n",
       "    </tr>\n",
       "    <tr>\n",
       "      <th>18-29</th>\n",
       "      <td></td>\n",
       "      <td>218</td>\n",
       "      <td></td>\n",
       "      <td></td>\n",
       "      <td></td>\n",
       "    </tr>\n",
       "    <tr>\n",
       "      <th>30-44</th>\n",
       "      <td></td>\n",
       "      <td>268</td>\n",
       "      <td></td>\n",
       "      <td></td>\n",
       "      <td></td>\n",
       "    </tr>\n",
       "    <tr>\n",
       "      <th>45-60</th>\n",
       "      <td></td>\n",
       "      <td>291</td>\n",
       "      <td></td>\n",
       "      <td></td>\n",
       "      <td></td>\n",
       "    </tr>\n",
       "    <tr>\n",
       "      <th>&gt; 60</th>\n",
       "      <td></td>\n",
       "      <td>269</td>\n",
       "      <td></td>\n",
       "      <td></td>\n",
       "      <td></td>\n",
       "    </tr>\n",
       "    <tr>\n",
       "      <th>Bachelor degree</th>\n",
       "      <td></td>\n",
       "      <td></td>\n",
       "      <td></td>\n",
       "      <td>321</td>\n",
       "      <td></td>\n",
       "    </tr>\n",
       "    <tr>\n",
       "      <th>East North Central</th>\n",
       "      <td></td>\n",
       "      <td></td>\n",
       "      <td></td>\n",
       "      <td></td>\n",
       "      <td>181</td>\n",
       "    </tr>\n",
       "    <tr>\n",
       "      <th>East South Central</th>\n",
       "      <td></td>\n",
       "      <td></td>\n",
       "      <td></td>\n",
       "      <td></td>\n",
       "      <td>38</td>\n",
       "    </tr>\n",
       "    <tr>\n",
       "      <th>Female</th>\n",
       "      <td>549</td>\n",
       "      <td></td>\n",
       "      <td></td>\n",
       "      <td></td>\n",
       "      <td></td>\n",
       "    </tr>\n",
       "    <tr>\n",
       "      <th>Graduate degree</th>\n",
       "      <td></td>\n",
       "      <td></td>\n",
       "      <td></td>\n",
       "      <td>275</td>\n",
       "      <td></td>\n",
       "    </tr>\n",
       "    <tr>\n",
       "      <th>High school degree</th>\n",
       "      <td></td>\n",
       "      <td></td>\n",
       "      <td></td>\n",
       "      <td>105</td>\n",
       "      <td></td>\n",
       "    </tr>\n",
       "    <tr>\n",
       "      <th>Less than high school degree</th>\n",
       "      <td></td>\n",
       "      <td></td>\n",
       "      <td></td>\n",
       "      <td>7</td>\n",
       "      <td></td>\n",
       "    </tr>\n",
       "    <tr>\n",
       "      <th>Male</th>\n",
       "      <td>497</td>\n",
       "      <td></td>\n",
       "      <td></td>\n",
       "      <td></td>\n",
       "      <td></td>\n",
       "    </tr>\n",
       "    <tr>\n",
       "      <th>Middle Atlantic</th>\n",
       "      <td></td>\n",
       "      <td></td>\n",
       "      <td></td>\n",
       "      <td></td>\n",
       "      <td>122</td>\n",
       "    </tr>\n",
       "    <tr>\n",
       "      <th>Mountain</th>\n",
       "      <td></td>\n",
       "      <td></td>\n",
       "      <td></td>\n",
       "      <td></td>\n",
       "      <td>79</td>\n",
       "    </tr>\n",
       "    <tr>\n",
       "      <th>New England</th>\n",
       "      <td></td>\n",
       "      <td></td>\n",
       "      <td></td>\n",
       "      <td></td>\n",
       "      <td>75</td>\n",
       "    </tr>\n",
       "    <tr>\n",
       "      <th>Pacific</th>\n",
       "      <td></td>\n",
       "      <td></td>\n",
       "      <td></td>\n",
       "      <td></td>\n",
       "      <td>175</td>\n",
       "    </tr>\n",
       "    <tr>\n",
       "      <th>Some college or Associate degree</th>\n",
       "      <td></td>\n",
       "      <td></td>\n",
       "      <td></td>\n",
       "      <td>328</td>\n",
       "      <td></td>\n",
       "    </tr>\n",
       "    <tr>\n",
       "      <th>South Atlantic</th>\n",
       "      <td></td>\n",
       "      <td></td>\n",
       "      <td></td>\n",
       "      <td></td>\n",
       "      <td>170</td>\n",
       "    </tr>\n",
       "    <tr>\n",
       "      <th>West North Central</th>\n",
       "      <td></td>\n",
       "      <td></td>\n",
       "      <td></td>\n",
       "      <td></td>\n",
       "      <td>93</td>\n",
       "    </tr>\n",
       "    <tr>\n",
       "      <th>West South Central</th>\n",
       "      <td></td>\n",
       "      <td></td>\n",
       "      <td></td>\n",
       "      <td></td>\n",
       "      <td>110</td>\n",
       "    </tr>\n",
       "  </tbody>\n",
       "</table>\n",
       "</div>"
      ],
      "text/plain": [
       "                                 Gender  Age Household Income Education  \\\n",
       "$0 - $24,999                                              138             \n",
       "$100,000 - $149,999                                       141             \n",
       "$150,000+                                                  95             \n",
       "$25,000 - $49,999                                         186             \n",
       "$50,000 - $99,999                                         298             \n",
       "18-29                                    218                              \n",
       "30-44                                    268                              \n",
       "45-60                                    291                              \n",
       "> 60                                     269                              \n",
       "Bachelor degree                                                     321   \n",
       "East North Central                                                        \n",
       "East South Central                                                        \n",
       "Female                              549                                   \n",
       "Graduate degree                                                     275   \n",
       "High school degree                                                  105   \n",
       "Less than high school degree                                          7   \n",
       "Male                                497                                   \n",
       "Middle Atlantic                                                           \n",
       "Mountain                                                                  \n",
       "New England                                                               \n",
       "Pacific                                                                   \n",
       "Some college or Associate degree                                    328   \n",
       "South Atlantic                                                            \n",
       "West North Central                                                        \n",
       "West South Central                                                        \n",
       "\n",
       "                                 Location (Census Region)  \n",
       "$0 - $24,999                                               \n",
       "$100,000 - $149,999                                        \n",
       "$150,000+                                                  \n",
       "$25,000 - $49,999                                          \n",
       "$50,000 - $99,999                                          \n",
       "18-29                                                      \n",
       "30-44                                                      \n",
       "45-60                                                      \n",
       "> 60                                                       \n",
       "Bachelor degree                                            \n",
       "East North Central                                    181  \n",
       "East South Central                                     38  \n",
       "Female                                                     \n",
       "Graduate degree                                            \n",
       "High school degree                                         \n",
       "Less than high school degree                               \n",
       "Male                                                       \n",
       "Middle Atlantic                                       122  \n",
       "Mountain                                               79  \n",
       "New England                                            75  \n",
       "Pacific                                               175  \n",
       "Some college or Associate degree                           \n",
       "South Atlantic                                        170  \n",
       "West North Central                                     93  \n",
       "West South Central                                    110  "
      ]
     },
     "execution_count": 737,
     "metadata": {},
     "output_type": "execute_result"
    }
   ],
   "source": [
    "#Demographics\n",
    "star_wars.iloc[:,33:].apply(pd.Series.value_counts).fillna('')"
   ]
  },
  {
   "cell_type": "markdown",
   "metadata": {},
   "source": [
    "---\n",
    "### Now do some cleaning...\n",
    "* Convert Yest/No values to Booleans\n",
    "* Rename \"Unnamed\" columns to something more meaningful"
   ]
  },
  {
   "cell_type": "code",
   "execution_count": 738,
   "metadata": {
    "collapsed": false
   },
   "outputs": [],
   "source": [
    "#Create a value map\n",
    "value_map = {\"Yes\": True, \"No\": False,\n",
    "             \"Star Wars: Episode I  The Phantom Menace\" : True,\n",
    "             \"Star Wars: Episode II  Attack of the Clones\" : True,\n",
    "             \"Star Wars: Episode III  Revenge of the Sith\" : True,\n",
    "             \"Star Wars: Episode IV  A New Hope\" : True,\n",
    "             \"Star Wars: Episode V The Empire Strikes Back\" : True,\n",
    "             \"Star Wars: Episode VI Return of the Jedi\" : True,\n",
    "             \"Very favorably\" : 2,\n",
    "             \"Somewhat favorably\" : 1,\n",
    "             \"Neither favorably nor unfavorably (neutral)\" : 0,\n",
    "             \"Unfamiliar (N/A)\" : 0,\n",
    "             \"Somewhat unfavorably \" : -1,\n",
    "             \"Very unfavorably\" : -2\n",
    "}\n",
    "\n",
    "column_map = {'Which of the following Star Wars films have you seen? Please select all that apply.':'seen_1',\n",
    "              'Unnamed: 4':'seen_2',\n",
    "              'Unnamed: 5':'seen_3',\n",
    "              'Unnamed: 6':'seen_4',\n",
    "              'Unnamed: 7':'seen_5',\n",
    "              'Unnamed: 8':'seen_6',\n",
    "              'Please rank the Star Wars films in order of preference with 1 being your favorite film in the franchise and 6 being your least favorite film.':'ranking_1',\n",
    "              'Unnamed: 10':'ranking_2',\n",
    "              'Unnamed: 11':'ranking_3',\n",
    "              'Unnamed: 12':'ranking_4',\n",
    "              'Unnamed: 13':'ranking_5',\n",
    "              'Unnamed: 14':'ranking_6',\n",
    "              'Please state whether you view the following characters favorably, unfavorably, or are unfamiliar with him/her.':'Han Solo',\n",
    "              'Unnamed: 16': 'Luke Skywalker',\n",
    "              'Unnamed: 17': 'Princess Leia Organa',\n",
    "              'Unnamed: 18': 'Anakin Skywalker',\n",
    "              'Unnamed: 19': 'Obi Wan Kenobi',\n",
    "              'Unnamed: 20': 'Emperor Palpatine',\n",
    "              'Unnamed: 21': 'Darth Vader',\n",
    "              'Unnamed: 22': 'Lando Calrissian',\n",
    "              'Unnamed: 23': 'Boba Fett',\n",
    "              'Unnamed: 24': 'C-3P0',\n",
    "              'Unnamed: 25': 'R2 D2',\n",
    "              'Unnamed: 26': 'Jar Jar Binks',\n",
    "              'Unnamed: 27': 'Padme Amidala',\n",
    "              'Unnamed: 28': 'Yoda'    \n",
    "}\n",
    "\n",
    "#Remap column names and values \n",
    "star_wars[\"Have you seen any of the 6 films in the Star Wars franchise?\"] = star_wars[\"Have you seen any of the 6 films in the Star Wars franchise?\"].map(value_map)\n",
    "star_wars[\"Do you consider yourself to be a fan of the Star Wars film franchise?\"] = star_wars[\"Do you consider yourself to be a fan of the Star Wars film franchise?\"].map(value_map)\n",
    "\n",
    "star_wars['Which of the following Star Wars films have you seen? Please select all that apply.'] = star_wars['Which of the following Star Wars films have you seen? Please select all that apply.'].map(value_map,na_action=\"ignore\").fillna(False)\n",
    "star_wars['Unnamed: 4'] = star_wars['Unnamed: 4'].map(value_map).fillna(False)\n",
    "star_wars['Unnamed: 5'] = star_wars['Unnamed: 5'].map(value_map).fillna(False)\n",
    "star_wars['Unnamed: 6'] = star_wars['Unnamed: 6'].map(value_map).fillna(False)\n",
    "star_wars['Unnamed: 7'] = star_wars['Unnamed: 7'].map(value_map).fillna(False)\n",
    "star_wars['Unnamed: 8'] = star_wars['Unnamed: 8'].map(value_map).fillna(False)\n",
    "\n",
    "star_wars['Are you familiar with the Expanded Universe?'] = star_wars['Are you familiar with the Expanded Universe?'].map(value_map).fillna(False)\n",
    "star_wars['Do you consider yourself to be a fan of the Expanded Universe?ÂÃ¦'] = star_wars['Do you consider yourself to be a fan of the Expanded Universe?ÂÃ¦'].map(value_map).fillna(False)\n",
    "star_wars['Do you consider yourself to be a fan of the Star Trek franchise?'] = star_wars['Do you consider yourself to be a fan of the Star Trek franchise?'].map(value_map).fillna(False)\n",
    "\n",
    "star_wars.rename(columns=column_map,inplace=True)\n",
    "\n",
    "characters = ['Han Solo', 'Luke Skywalker', 'Princess Leia Organa',\n",
    "       'Anakin Skywalker', 'Obi Wan Kenobi', 'Emperor Palpatine',\n",
    "       'Darth Vader', 'Lando Calrissian', 'Boba Fett', 'C-3P0', 'R2 D2',\n",
    "       'Jar Jar Binks', 'Padme Amidala', 'Yoda']\n",
    "for c in characters:\n",
    "    star_wars[c] = star_wars[c].map(value_map)\n",
    "\n",
    "#Change values for film rankings from strings to floats\n",
    "star_wars[star_wars.columns[9:15]] = star_wars[star_wars.columns[9:15]].astype(float)"
   ]
  },
  {
   "cell_type": "markdown",
   "metadata": {},
   "source": [
    "---\n",
    "### Which is the most popular Star Wars movie?"
   ]
  },
  {
   "cell_type": "code",
   "execution_count": 739,
   "metadata": {
    "collapsed": false
   },
   "outputs": [
    {
     "data": {
      "image/png": "[encoded data removed]",
      "text/plain": [
       "<matplotlib.figure.Figure at 0x12ac96d68>"
      ]
     },
     "metadata": {},
     "output_type": "display_data"
    }
   ],
   "source": [
    "#get the average ranking for each movie. Remember that lower is better. \n",
    "means = star_wars[star_wars.columns[9:15]].mean()\n",
    "#\n",
    "sums = star_wars[star_wars.columns[3:9]].sum()\n",
    "\n",
    "%matplotlib inline\n",
    "fig = plt.figure(figsize=(15, 5))\n",
    "ax = []\n",
    "ax.append(fig.add_subplot(1,2,1))\n",
    "ax.append(fig.add_subplot(1,2,2))\n",
    "means.plot.bar(ax=ax[0]); ax[0].set_title('Average Ranking')\n",
    "sums.plot.bar(ax=ax[1]); ax[1].set_title('Movies Watched')\n",
    "plt.show()"
   ]
  },
  {
   "cell_type": "markdown",
   "metadata": {},
   "source": [
    "### The Empire Strikes Back\n",
    "It seems the Empire Strikes Back is ranked highest, but how does that change if I break it down by demographics?"
   ]
  },
  {
   "cell_type": "code",
   "execution_count": 740,
   "metadata": {
    "collapsed": false
   },
   "outputs": [
    {
     "data": {
      "text/plain": [
       "<matplotlib.text.Text at 0x129177780>"
      ]
     },
     "execution_count": 740,
     "metadata": {},
     "output_type": "execute_result"
    },
    {
     "data": {
      "image/png": "[encoded data removed]",
      "text/plain": [
       "<matplotlib.figure.Figure at 0x12a980a20>"
      ]
     },
     "metadata": {},
     "output_type": "display_data"
    }
   ],
   "source": [
    "males = star_wars[star_wars[\"Gender\"] == \"Male\"]\n",
    "females = star_wars[star_wars[\"Gender\"] == \"Female\"]\n",
    "\n",
    "male_means = males[males.columns[9:15]].mean()\n",
    "male_sums = males[males.columns[3:9]].sum()\n",
    "female_means = females[females.columns[9:15]].mean()\n",
    "female_sums = females[females.columns[3:9]].sum()\n",
    "\n",
    "means = pd.concat([male_means,female_means], keys=['male','female'],axis=1)\n",
    "sums = pd.concat([male_sums,female_sums], keys=['male','female'],axis=1)\n",
    "\n",
    "fig = plt.figure(figsize=(15, 5))\n",
    "ax = []\n",
    "ax.append(fig.add_subplot(1,2,1))\n",
    "ax.append(fig.add_subplot(1,2,2))\n",
    "\n",
    "means.plot.bar(ax=ax[0]); ax[0].set_title('Average Ranking')\n",
    "sums.plot.bar(ax=ax[1]); ax[1].set_title('Movies Watched')"
   ]
  },
  {
   "cell_type": "markdown",
   "metadata": {},
   "source": [
    "#### Men Vs. Women\n",
    "The Empire Strikes Back remains the most popular movie across men and women. Women tended to like episodes 1 and 2 more than men, while they disliked the original trilogy more. "
   ]
  },
  {
   "cell_type": "markdown",
   "metadata": {},
   "source": [
    "### Which age group watches more Star Wars and where do their favorites lie?"
   ]
  },
  {
   "cell_type": "code",
   "execution_count": 741,
   "metadata": {
    "collapsed": false,
    "scrolled": true
   },
   "outputs": [
    {
     "data": {
      "image/png": "[encoded data removed]",
      "text/plain": [
       "<matplotlib.figure.Figure at 0x1297ba2e8>"
      ]
     },
     "metadata": {},
     "output_type": "display_data"
    }
   ],
   "source": [
    "ages = [\"18-29\",\"30-44\",\"45-60\",\"> 60\"]\n",
    "age_means = []\n",
    "age_sums = []\n",
    "character_rankings = []\n",
    "\n",
    "#combine movies into original and Disney?\n",
    "for a in ages:\n",
    "    age = star_wars[star_wars[\"Age\"] == a]\n",
    "    age_means.append(age[age.columns[9:15]].mean())\n",
    "    age_sums.append(age[age.columns[3:9]].sum())\n",
    "    character_rankings.append(age[age.columns[15:29]].mean())\n",
    "    \n",
    "means = pd.concat(age_means, keys=ages,axis=1)\n",
    "sums = pd.concat(age_sums, keys=ages,axis=1)\n",
    "chars = pd.concat(character_rankings, keys=ages, axis=1)\n",
    "\n",
    "fig = plt.figure(figsize=(15, 5))\n",
    "ax = []\n",
    "ax.append(fig.add_subplot(1,2,1))\n",
    "ax.append(fig.add_subplot(1,2,2))\n",
    "\n",
    "means.plot.bar(ax=ax[0]); ax[0].set_title('Average Ranking'); ax[0].grid()\n",
    "sums.plot.bar(ax=ax[1]); ax[1].set_title('Movies Watched'); ax[1].grid()\n",
    "plt.show()\n"
   ]
  },
  {
   "cell_type": "markdown",
   "metadata": {},
   "source": [
    "### Favorite Characters"
   ]
  },
  {
   "cell_type": "code",
   "execution_count": 742,
   "metadata": {
    "collapsed": false
   },
   "outputs": [
    {
     "data": {
      "image/png": "[encoded data removed]",
      "text/plain": [
       "<matplotlib.figure.Figure at 0x12aca2ba8>"
      ]
     },
     "metadata": {},
     "output_type": "display_data"
    }
   ],
   "source": [
    "fig = plt.figure(figsize=(15, 5))\n",
    "ax = fig.add_subplot(1,1,1)\n",
    "chars.plot.bar(ax=ax); ax.set_title('Character Rankings')\n",
    "plt.yticks([-1,0,1,2],['unfavorable', 'neutral', 'favorable', 'very favorable'])\n",
    "plt.grid()\n",
    "plt.show()"
   ]
  },
  {
   "cell_type": "markdown",
   "metadata": {},
   "source": [
    "There you have it. Jar Jar Binks ranks lower than pure evil Palpatine. Proof that he is the true Sith Lord? Millenials seem to think so. Also, interesting is the response of millenials to Darth Vader/Anakin Skywalker. Millenials seem to dislike Anakin more than his Dark Lord persona as an adult. Perhaps the redemption story in Return of the Jedi resonates more with the younger generation.  "
   ]
  },
  {
   "cell_type": "markdown",
   "metadata": {},
   "source": [
    "### Nerd Level"
   ]
  },
  {
   "cell_type": "markdown",
   "metadata": {},
   "source": [
    "#### nerd_level = +1 for each of the following\n",
    " - Familiar with the \"who shot first\" question\n",
    " - Yes for any of the following: \n",
    "     \"Are you familiar with the Expanded Universe?\"\n",
    "     \"Do you consider yourself to be a fan of the Expanded Universe?ÂÃ¦\"\n",
    "     \"Do you consider yourself to be a fan of the Star Trek franchise?\""
   ]
  },
  {
   "cell_type": "code",
   "execution_count": 754,
   "metadata": {
    "collapsed": false
   },
   "outputs": [
    {
     "data": {
      "image/png": "[encoded data removed]",
      "text/plain": [
       "<matplotlib.figure.Figure at 0x12a79cbe0>"
      ]
     },
     "metadata": {},
     "output_type": "display_data"
    }
   ],
   "source": [
    "#for each row sum the following: star_wars[\"Which character shot first?\"] != \"I don't understand this question\",\n",
    "#star_wars[\"Are you familiar with the Expanded Universe?\"]==True, star_wars[\"Do you consider yourself to be a fan of the Expanded Universe?ÂÃ¦\"]==True, \n",
    "# star_wars[\"Do you consider yourself to be a fan of the Star Trek franchise?\"] == True\n",
    "star_wars[\"nerd_level\"] = 1*(star_wars[\"Which character shot first?\"] != \"I don't understand this question\") + 1*(star_wars[\"Are you familiar with the Expanded Universe?\"]==True) + 1*(star_wars[\"Do you consider yourself to be a fan of the Expanded Universe?ÂÃ¦\"]==True) + 1*(star_wars[\"Do you consider yourself to be a fan of the Star Trek franchise?\"] == True)\n",
    "nerds = []\n",
    "for a in ages:\n",
    "    age = star_wars[star_wars[\"Age\"] == a]\n",
    "    nerds.append(age[\"nerd_level\"].mean())\n",
    "\n",
    "x=np.arange(len(nerds))\n",
    "ax = plt.bar(x,nerds,align='center',width=0.5)\n",
    "plt.xticks(x,ages)\n",
    "plt.title('Nerd Level by Age')\n",
    "plt.show()"
   ]
  },
  {
   "cell_type": "markdown",
   "metadata": {},
   "source": [
    "People younger than 60 have a roughly equal nerd ranking. Perhaps this is due to the lack of depth in the expanded universe. A 60 year old person would have been 22 when the first Star Wars film debuted and 11 when the original Star Trek series released. While there were a handful of novels written (8 to be precise) before 1990, the expanded universe did not gain traction until the 1990's when there were 92 novels written most of which were aimed at an adolescent readership. "
   ]
  },
  {
   "cell_type": "markdown",
   "metadata": {},
   "source": [
    "### Most Controversial Characters"
   ]
  },
  {
   "cell_type": "code",
   "execution_count": 772,
   "metadata": {
    "collapsed": false
   },
   "outputs": [
    {
     "data": {
      "text/plain": [
       "Darth Vader             2.311614\n",
       "Jar Jar Binks           1.935856\n",
       "Emperor Palpatine       1.424526\n",
       "Anakin Skywalker        1.053174\n",
       "Boba Fett               1.013281\n",
       "Padme Amidala           0.956227\n",
       "Lando Calrissian        0.667369\n",
       "C-3P0                   0.586177\n",
       "Yoda                    0.498700\n",
       "R2 D2                   0.495147\n",
       "Obi Wan Kenobi          0.484853\n",
       "Princess Leia Organa    0.469226\n",
       "Luke Skywalker          0.389961\n",
       "Han Solo                0.380758\n",
       "dtype: float64"
      ]
     },
     "execution_count": 772,
     "metadata": {},
     "output_type": "execute_result"
    }
   ],
   "source": [
    "char_variance = star_wars[star_wars.columns[15:29]].var()\n",
    "char_variance.sort_values(ascending=False,inplace=True)\n",
    "char_variance\n",
    "#Future work is to get a measure of how bimodal the distribution is and use that for \"controversial\" ranking"
   ]
  },
  {
   "cell_type": "markdown",
   "metadata": {},
   "source": [
    "Darth Vader is the most controversial character in the Star Wars universe. That is easily seen by examining the breakdown by age. Vader ranks higher among young people. In general, evil character (or those suspected of being evil) are more controversial. "
   ]
  }
 ],
 "metadata": {
  "anaconda-cloud": {},
  "kernelspec": {
   "display_name": "Python [Root]",
   "language": "python",
   "name": "Python [Root]"
  },
  "language_info": {
   "codemirror_mode": {
    "name": "ipython",
    "version": 3
   },
   "file_extension": ".py",
   "mimetype": "text/x-python",
   "name": "python",
   "nbconvert_exporter": "python",
   "pygments_lexer": "ipython3",
   "version": "3.5.1"
  }
 },
 "nbformat": 4,
 "nbformat_minor": 0
}
